{
  "nbformat": 4,
  "nbformat_minor": 0,
  "metadata": {
    "colab": {
      "provenance": [],
      "authorship_tag": "ABX9TyNlkpdoVwCf+FkkJidWlxhj",
      "include_colab_link": true
    },
    "kernelspec": {
      "name": "python3",
      "display_name": "Python 3"
    },
    "language_info": {
      "name": "python"
    }
  },
  "cells": [
    {
      "cell_type": "markdown",
      "metadata": {
        "id": "view-in-github",
        "colab_type": "text"
      },
      "source": [
        "<a href=\"https://colab.research.google.com/github/EricSiq/UnsupervisedMachineLearning/blob/main/UML_Multidimensional_Scaling__Exp.ipynb\" target=\"_parent\"><img src=\"https://colab.research.google.com/assets/colab-badge.svg\" alt=\"Open In Colab\"/></a>"
      ]
    },
    {
      "cell_type": "code",
      "execution_count": 6,
      "metadata": {
        "id": "RnkLQEJUXCjf"
      },
      "outputs": [],
      "source": [
        "import numpy as np\n",
        "import matplotlib.pyplot as plt\n",
        "import seaborn as sns\n",
        "from sklearn.preprocessing import StandardScaler\n",
        "from sklearn.datasets import load_breast_cancer\n",
        "from sklearn.manifold import MDS\n",
        "from sklearn.cluster import KMeans\n",
        "from sklearn.decomposition import PCA"
      ]
    },
    {
      "cell_type": "code",
      "source": [
        "#Loading breast cancer dataset\n",
        "data=load_breast_cancer()\n",
        "X=data.data#Features\n",
        "Y=data.target#Labels Malignant or Benign\n",
        "plt.show()\n",
        "\n",
        "#Standardize the data(important for distance based methods)\n",
        "scaler=StandardScaler()\n",
        "X_scaled=scaler.fit_transform(X)\n",
        "\n",
        "#Compute the pairwise distance\n",
        "dist_matrix=pairwise_distances(X_scaled,metric='euclidean')\n",
        "\n",
        "#Perform MDS\n",
        "mds=MDS(n_components=2,metric=True,dissimilarity='precomputed')\n",
        "X_mds=mds.fit_transform(dist_matrix\n",
        "\n",
        "\n",
        "\n"
      ],
      "metadata": {
        "id": "XFsxhKy9Xdt-"
      },
      "execution_count": 7,
      "outputs": []
    },
    {
      "cell_type": "code",
      "source": [
        "#"
      ],
      "metadata": {
        "id": "7HNk7NSvX9Kq"
      },
      "execution_count": null,
      "outputs": []
    }
  ]
}